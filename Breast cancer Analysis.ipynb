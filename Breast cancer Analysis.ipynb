{
 "cells": [
  {
   "cell_type": "code",
   "execution_count": null,
   "id": "d8cba7ab",
   "metadata": {},
   "outputs": [],
   "source": [
    "# Breast Cancer Prediction using Python"
   ]
  },
  {
   "cell_type": "code",
   "execution_count": null,
   "id": "55ade500",
   "metadata": {},
   "outputs": [],
   "source": [
    "#Importing the libraries\n",
    "import numpy as np\n",
    "import pandas as pd\n",
    "import matplotlib.pyplot as plt\n",
    "import sklearn.datasets"
   ]
  },
  {
   "cell_type": "code",
   "execution_count": null,
   "id": "2342e079",
   "metadata": {},
   "outputs": [],
   "source": [
    "# Reading data from data file and storing as a dataframe\n",
    "breast_cancer_dataset=sklearn.datasets.load_breast_cancer()\n",
    "df=pd.DataFrame(breast_cancer_dataset.data, columns=breast_cancer_dataset.feature_names)"
   ]
  },
  {
   "cell_type": "code",
   "execution_count": null,
   "id": "6b7caaad",
   "metadata": {},
   "outputs": [],
   "source": [
    "breast_cancer_dataset"
   ]
  },
  {
   "cell_type": "code",
   "execution_count": null,
   "id": "46a06a33",
   "metadata": {},
   "outputs": [],
   "source": [
    "df.head(6)"
   ]
  },
  {
   "cell_type": "code",
   "execution_count": null,
   "id": "8cc2e85c",
   "metadata": {},
   "outputs": [],
   "source": [
    "# Adding the target column to the data frame\n",
    "df['Diagnosis'] = breast_cancer_dataset.target"
   ]
  },
  {
   "cell_type": "code",
   "execution_count": null,
   "id": "f7170f75",
   "metadata": {},
   "outputs": [],
   "source": [
    "df.tail(6)"
   ]
  },
  {
   "cell_type": "code",
   "execution_count": null,
   "id": "565b51cb",
   "metadata": {},
   "outputs": [],
   "source": [
    "# Returns if any null values or not\n",
    "df.info()"
   ]
  },
  {
   "cell_type": "code",
   "execution_count": null,
   "id": "7aea05f3",
   "metadata": {},
   "outputs": [],
   "source": [
    "# returns size of the dataset\n",
    "df.shape"
   ]
  },
  {
   "cell_type": "code",
   "execution_count": null,
   "id": "8e1ab0f7",
   "metadata": {},
   "outputs": [],
   "source": [
    "#describing dataset\n",
    "df.describe()"
   ]
  },
  {
   "cell_type": "code",
   "execution_count": null,
   "id": "89432e64",
   "metadata": {},
   "outputs": [],
   "source": [
    "df['Diagnosis'].value_counts()"
   ]
  },
  {
   "cell_type": "code",
   "execution_count": null,
   "id": "32c3fd87",
   "metadata": {},
   "outputs": [],
   "source": [
    "#Separating features and diagnosis column, Dependant (X), Independant(Y)\n",
    "X = df.drop(columns='Diagnosis',axis=1)\n",
    "Y = df['Diagnosis']"
   ]
  },
  {
   "cell_type": "code",
   "execution_count": null,
   "id": "94eb73cc",
   "metadata": {},
   "outputs": [],
   "source": [
    "#Separating the data into test and train data set\n",
    "from sklearn.model_selection import train_test_split\n",
    "X_train,X_test,Y_train,Y_test=train_test_split(X,Y,test_size=0.2,random_state=0)"
   ]
  },
  {
   "cell_type": "code",
   "execution_count": null,
   "id": "e419141e",
   "metadata": {},
   "outputs": [],
   "source": [
    "#feature scaling\n",
    "from sklearn.preprocessing import StandardScaler\n",
    "X_train=StandardScaler().fit_transform(X_train)\n",
    "X_test=StandardScaler().fit_transform(X_test)"
   ]
  },
  {
   "cell_type": "code",
   "execution_count": null,
   "id": "f060668f",
   "metadata": {},
   "outputs": [],
   "source": [
    "def models(X_train,Y_train):\n",
    "    \n",
    "    # Logistic Regression\n",
    "    from sklearn.linear_model import LogisticRegression\n",
    "    log=LogisticRegression(random_state=0)\n",
    "    log.fit(X_train,Y_train)\n",
    "    \n",
    "    # Decision tree\n",
    "    from sklearn.tree import DecisionTreeClassifier\n",
    "    tree=DecisionTreeClassifier(random_state=0,criterion=\"entropy\")\n",
    "    tree.fit(X_train,Y_train)\n",
    "    \n",
    "    # Random forest\n",
    "    from sklearn.ensemble import RandomForestClassifier\n",
    "    forest=RandomForestClassifier(random_state=0,criterion=\"entropy\",n_estimators=10)\n",
    "    forest.fit(X_train,Y_train)\n",
    "    \n",
    "    return log,tree,forest"
   ]
  },
  {
   "cell_type": "code",
   "execution_count": null,
   "id": "77cd3050",
   "metadata": {},
   "outputs": [],
   "source": [
    "model=models(X_train,Y_train)"
   ]
  },
  {
   "cell_type": "code",
   "execution_count": null,
   "id": "1872167e",
   "metadata": {},
   "outputs": [],
   "source": [
    "# Testing the models\n",
    "\n",
    "from sklearn.metrics import accuracy_score\n",
    "\n",
    "for i in range(len(model)):\n",
    "    print(\"Model\",i)\n",
    "    print(\"Accuracy : \",100*accuracy_score(Y_test,model[i].predict(X_test)), \"%\")"
   ]
  },
  {
   "cell_type": "code",
   "execution_count": null,
   "id": "5dd484a9",
   "metadata": {},
   "outputs": [],
   "source": [
    "algorithm_names = ['Model 0', 'Model 1', 'Model 2']\n",
    "accuracy_values = [0,0,0]\n",
    "for i in range(len(model)):\n",
    "    accuracy_values[i] = 100*accuracy_score(Y_test,model[i].predict(X_test))\n",
    "\n",
    "# Plotting the bar chart\n",
    "plt.bar(algorithm_names, accuracy_values)\n",
    "\n",
    "# Adding labels and title\n",
    "plt.xlabel('Algorithms')\n",
    "plt.ylabel('Accuracy')\n",
    "plt.title('Accuracy of Breast Cancer Analysis Algorithms')\n",
    "\n",
    "# Displaying the chart\n",
    "plt.show()"
   ]
  },
  {
   "cell_type": "code",
   "execution_count": null,
   "id": "a5ff705e",
   "metadata": {},
   "outputs": [],
   "source": [
    "# "
   ]
  }
 ],
 "metadata": {
  "kernelspec": {
   "display_name": "Python 3 (ipykernel)",
   "language": "python",
   "name": "python3"
  },
  "language_info": {
   "codemirror_mode": {
    "name": "ipython",
    "version": 3
   },
   "file_extension": ".py",
   "mimetype": "text/x-python",
   "name": "python",
   "nbconvert_exporter": "python",
   "pygments_lexer": "ipython3",
   "version": "3.10.9"
  }
 },
 "nbformat": 4,
 "nbformat_minor": 5
}
